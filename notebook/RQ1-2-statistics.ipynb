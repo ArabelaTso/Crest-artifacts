{
 "cells": [
  {
   "cell_type": "markdown",
   "metadata": {},
   "source": [
    "# Statistics in Tables of the paper\n",
    "## Statistics for RQ1 and RQ2"
   ]
  },
  {
   "cell_type": "code",
   "execution_count": 1,
   "metadata": {},
   "outputs": [],
   "source": [
    "import pandas as pd"
   ]
  },
  {
   "cell_type": "markdown",
   "metadata": {},
   "source": [
    "### Table 1"
   ]
  },
  {
   "cell_type": "code",
   "execution_count": 8,
   "metadata": {},
   "outputs": [
    {
     "name": "stdout",
     "output_type": "stream",
     "text": [
      "465\n"
     ]
    }
   ],
   "source": [
    "# set up ground truth\n",
    "\n",
    "df = pd.read_csv('../Output/RQ1-IssueRevealing/generate/NeuralCoref/{}.tsv'.format('Textattack'), delimiter='\\t')\n",
    "Groundtruth_N = set(df[df['oriConsistent'] == False]['OID'])\n",
    "print(len(Groundtruth_N))"
   ]
  },
  {
   "cell_type": "code",
   "execution_count": 9,
   "metadata": {},
   "outputs": [
    {
     "name": "stdout",
     "output_type": "stream",
     "text": [
      "\n",
      "Method = SIT\n",
      "1000 (535 + 465) | Gen: 10488 | Issues: 2338 | Hit: 230 / 465 (49.46) | TP: 1652 | FP: 686 | Prec: 0.71 | CorefKeep: 7020 / 10488 =  0.67\n",
      "\n",
      "Method = PatInv\n",
      "1000 (535 + 465) | Gen: 9445 | Issues: 1881 | Hit: 167 / 465 (35.91) | TP: 1398 | FP: 483 | Prec: 0.74 | CorefKeep: 7498 / 9445 =  0.79\n",
      "\n",
      "Method = CAT\n",
      "1000 (535 + 465) | Gen: 16640 | Issues: 2197 | Hit: 425 / 465 (91.4) | TP: 1531 | FP: 666 | Prec: 0.7 | CorefKeep: 12083 / 16640 =  0.73\n",
      "\n",
      "Method = Checklist\n",
      "1000 (535 + 465) | Gen: 3744 | Issues: 488 | Hit: 334 / 465 (71.83) | TP: 350 | FP: 138 | Prec: 0.72 | CorefKeep: 2558 / 3744 =  0.68\n",
      "\n",
      "Method = Textattack\n",
      "1000 (535 + 465) | Gen: 20000 | Issues: 7304 | Hit: 463 / 465 (99.57) | TP: 4648 | FP: 2656 | Prec: 0.64 | CorefKeep: 12571 / 20000 =  0.63\n",
      "\n",
      "Method = Crest\n",
      "1000 (535 + 465) | Gen: 13635 | Issues: 1457 | Hit: 324 / 465 (69.68) | TP: 1457 | FP: 0 | Prec: 1.0 | CorefKeep: 13635 / 13635 =  1.0\n"
     ]
    }
   ],
   "source": [
    "Num_Src = 1000\n",
    "N = len(Groundtruth_N)\n",
    "P = Num_Src - N\n",
    "\n",
    "for method in ('SIT', 'PatInv', 'CAT', 'Checklist','Textattack',  'Crest', ):\n",
    "    print(f'\\nMethod = {method}')\n",
    "    df = pd.read_csv('../Output/RQ1-IssueRevealing/generate/NeuralCoref/{}.tsv'.format(method), delimiter='\\t')\n",
    "    \n",
    "    hit = 0\n",
    "    for nid in Groundtruth_N:\n",
    "        if False in set(df[df['OID'] == nid]['pairConsistent']) or '[]' in set(df[df['OID'] == nid]['oriCoref']) or '[]' in set(df[df['OID'] == nid]['newCoref']):\n",
    "            hit += 1\n",
    "        \n",
    "    Gen = len(df)\n",
    "        \n",
    "    Issues = len(df[df['pairConsistent'] == False])\n",
    "    \n",
    "    TP = len(df[(df['pairConsistent'] == False) & (df['isTrueBug'] == True)])\n",
    "    FP = len(df[(df['pairConsistent'] == False) & (df['isTrueBug'] == False)])\n",
    "    Prec = round(TP / (TP + FP), 2)\n",
    "        \n",
    "    FN = len(df[(df['isTrueBug'] == True) & (df['pairConsistent'] == True)])\n",
    "    recall = TP / (TP + FN) \n",
    "    \n",
    "    if method == 'CrestNew':\n",
    "        corefChanged = len(df[(df['isCorefKeep'] == False) &  (df['depthConsistent']==True) & (df['oriDepth'] != 'set()') & (df['newDepth'] != 'set()')])\n",
    "        corefKeep = Gen - corefChanged\n",
    "    else:\n",
    "        corefKeep = len(df[df['isCorefKeep'] == True])\n",
    "        \n",
    "    corefKeepRatio = round(corefKeep / Gen, 2)\n",
    "\n",
    "    print(f'{Num_Src} ({P} + {N}) | Gen: {Gen} | Issues: {Issues} | Hit: {hit} / {N} ({round(hit/N * 100, 2)}) | TP: {TP} | FP: {FP} | Prec: {Prec} | CorefKeep: {corefKeep} / {Gen} =  {corefKeepRatio}')"
   ]
  },
  {
   "cell_type": "markdown",
   "metadata": {},
   "source": [
    "### Table 2"
   ]
  },
  {
   "cell_type": "code",
   "execution_count": 10,
   "metadata": {},
   "outputs": [
    {
     "name": "stdout",
     "output_type": "stream",
     "text": [
      "365\n"
     ]
    }
   ],
   "source": [
    "# set up ground truth\n",
    "\n",
    "df = pd.read_csv('../Output/RQ1-IssueRevealing/generate/StatsCR/{}.tsv'.format('Textattack'), delimiter='\\t')\n",
    "Groundtruth_N = set(df[df['oriConsistent'] == False]['OID'])\n",
    "print(len(Groundtruth_N))"
   ]
  },
  {
   "cell_type": "code",
   "execution_count": 11,
   "metadata": {},
   "outputs": [
    {
     "name": "stdout",
     "output_type": "stream",
     "text": [
      "\n",
      "Method = SIT\n",
      "1000 (635 + 365) | Gen: 10488 | Issues: 2174 | Hit: 143 / 365 (39.18) | TP: 1422 | FP: 752 | Prec: 0.65 | CorefKeep: 6917 / 10488 =  0.66\n",
      "\n",
      "Method = PatInv\n",
      "1000 (635 + 365) | Gen: 9445 | Issues: 1410 | Hit: 78 / 365 (21.37) | TP: 1059 | FP: 351 | Prec: 0.75 | CorefKeep: 7382 / 9445 =  0.78\n",
      "\n",
      "Method = CAT\n",
      "1000 (635 + 365) | Gen: 16640 | Issues: 2513 | Hit: 324 / 365 (88.77) | TP: 1697 | FP: 816 | Prec: 0.68 | CorefKeep: 12083 / 16640 =  0.73\n",
      "\n",
      "Method = Checklist\n",
      "1000 (635 + 365) | Gen: 3744 | Issues: 479 | Hit: 199 / 365 (54.52) | TP: 312 | FP: 167 | Prec: 0.65 | CorefKeep: 2558 / 3744 =  0.68\n",
      "\n",
      "Method = Textattack\n",
      "1000 (635 + 365) | Gen: 20000 | Issues: 7470 | Hit: 363 / 365 (99.45) | TP: 4596 | FP: 2874 | Prec: 0.62 | CorefKeep: 12301 / 20000 =  0.62\n",
      "\n",
      "Method = Crest\n",
      "1000 (635 + 365) | Gen: 13625 | Issues: 1357 | Hit: 232 / 365 (63.56) | TP: 1357 | FP: 0 | Prec: 1.0 | CorefKeep: 13625 / 13625 =  1.0\n"
     ]
    }
   ],
   "source": [
    "Num_Src = 1000\n",
    "N = len(Groundtruth_N)\n",
    "P = Num_Src - N\n",
    "\n",
    "for method in ('SIT', 'PatInv', 'CAT', 'Checklist','Textattack',  'Crest', ): \n",
    "    print(f'\\nMethod = {method}')\n",
    "    df = pd.read_csv('../Output/RQ1-IssueRevealing/generate/StatsCR/{}.tsv'.format(method), delimiter='\\t')\n",
    "    \n",
    "    hit = 0\n",
    "    for nid in Groundtruth_N:\n",
    "        if False in set(df[df['OID'] == nid]['pairConsistent']) or '[]' in set(df[df['OID'] == nid]['oriCoref']) or '[]' in set(df[df['OID'] == nid]['newCoref']):\n",
    "            hit += 1\n",
    "        \n",
    "    Gen = len(df)\n",
    "        \n",
    "    Issues = len(df[df['pairConsistent'] == False])\n",
    "    \n",
    "    TP = len(df[(df['pairConsistent'] == False) & (df['isTrueBug'] == True)])\n",
    "    FP = len(df[(df['pairConsistent'] == False) & (df['isTrueBug'] == False)])\n",
    "    Prec = round(TP / (TP + FP), 2)\n",
    "        \n",
    "    FN = len(df[(df['isTrueBug'] == True) & (df['pairConsistent'] == True)])\n",
    "    recall = TP / (TP + FN) \n",
    "    \n",
    "    if method == 'CrestNew':\n",
    "        corefChanged = len(df[(df['isCorefKeep'] == False) &  (df['depthConsistent']==True) & (df['oriDepth'] != 'set()') & (df['newDepth'] != 'set()')])\n",
    "        corefKeep = Gen - corefChanged\n",
    "    else:\n",
    "        corefKeep = len(df[df['isCorefKeep'] == True])\n",
    "        \n",
    "    corefKeepRatio = round(corefKeep / Gen, 2)\n",
    "\n",
    "    print(f'{Num_Src} ({P} + {N}) | Gen: {Gen} | Issues: {Issues} | Hit: {hit} / {N} ({round(hit/N * 100, 2)}) | TP: {TP} | FP: {FP} | Prec: {Prec} | CorefKeep: {corefKeep} / {Gen} =  {corefKeepRatio}')"
   ]
  },
  {
   "cell_type": "code",
   "execution_count": null,
   "metadata": {},
   "outputs": [],
   "source": []
  }
 ],
 "metadata": {
  "kernelspec": {
   "display_name": "SemInv",
   "language": "python",
   "name": "python3"
  },
  "language_info": {
   "codemirror_mode": {
    "name": "ipython",
    "version": 3
   },
   "file_extension": ".py",
   "mimetype": "text/x-python",
   "name": "python",
   "nbconvert_exporter": "python",
   "pygments_lexer": "ipython3",
   "version": "3.8.12"
  },
  "orig_nbformat": 4
 },
 "nbformat": 4,
 "nbformat_minor": 2
}

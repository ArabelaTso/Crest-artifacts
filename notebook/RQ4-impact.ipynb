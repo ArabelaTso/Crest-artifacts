{
 "cells": [
  {
   "attachments": {},
   "cell_type": "markdown",
   "metadata": {},
   "source": [
    "# RQ4\n",
    "## Impact of M and w/ (w/o) selection"
   ]
  },
  {
   "cell_type": "code",
   "execution_count": 1,
   "metadata": {
    "collapsed": true,
    "pycharm": {
     "name": "#%%\n"
    }
   },
   "outputs": [],
   "source": [
    "import pandas as pd"
   ]
  },
  {
   "cell_type": "code",
   "execution_count": 10,
   "metadata": {
    "collapsed": false,
    "pycharm": {
     "name": "#%%\n"
    }
   },
   "outputs": [],
   "source": [
    "def sample_maxGen(df, maxGen=20):\n",
    "    df_all = None\n",
    "    for oid in range(0, max(df['OID'])+1):\n",
    "        if oid not in df['OID']:\n",
    "            print('skip: oid = ', oid)\n",
    "            continue\n",
    "        df1 = df[df.OID == oid]\n",
    "        if len(set(df1.pairConsistent.values)) == 2:\n",
    "            dff = df1[df1.pairConsistent == False]\n",
    "            if len(dff) >= maxGen:\n",
    "                df1 = dff.iloc[:maxGen, :]\n",
    "            else:\n",
    "                dft = df1[df1.pairConsistent == True].iloc[:maxGen - len(dff), :]\n",
    "                df1 = pd.concat([dff, dft], axis=0)\n",
    "        else:\n",
    "            df1 = df[df.OID == oid].iloc[:min(len(df1), maxGen), :]\n",
    "\n",
    "        if df_all is None:\n",
    "            df_all = df1\n",
    "        else:\n",
    "            df_all = pd.concat([df_all, df1], axis=0)\n",
    "            # print(len(df_all))\n",
    "        # print()\n",
    "    return df_all\n",
    "\n",
    "def setup_groundtruth(cr='NeuralCoref', gt_method='Textattack'):  # Stats\n",
    "    # Because Checklist has all 200 sentences recorded, so we use it as ground truth.\n",
    "    df = pd.read_csv('../Output/RQ4-Impact/{}/{}.tsv'.format(cr, gt_method), delimiter='\\t')\n",
    "    print(len(set(df['OID'])))\n",
    "    \n",
    "    for i in range(0, 1001):\n",
    "        if i not in set(df['OID']):\n",
    "            print(i)\n",
    "    assert len(set(df['OID'])) == 1000\n",
    "\n",
    "    Groundtruth_N = set(df[df['oriConsistent'] == False]['OID'])\n",
    "    # print(len(Groundtruth_N))\n",
    "    return Groundtruth_N\n",
    "\n",
    "def iterate(folder, cr, select):\n",
    "    Num_Src = 1000\n",
    "    Groundtruth_N = setup_groundtruth(cr=cr)\n",
    "    N = len(Groundtruth_N)\n",
    "    P = Num_Src - N\n",
    "    \n",
    "    \n",
    "    df = pd.read_csv('{}/{}/Crest.tsv'.format(folder,cr), delimiter='\\t')\n",
    "    "
   ]
  },
  {
   "attachments": {},
   "cell_type": "markdown",
   "metadata": {},
   "source": [
    "### NeuralCoref | M = 10, 20, 30, 50 | Select = True "
   ]
  },
  {
   "cell_type": "code",
   "execution_count": 12,
   "metadata": {},
   "outputs": [
    {
     "name": "stdout",
     "output_type": "stream",
     "text": [
      "1000\n",
      "1000\n",
      "\n",
      "Method = Crest\n",
      "M: 10 | Select: True | Gen: 7947 | Issues: 1314 | Hit: 324 / 465 (69.68) | TP: 1314 | FP: 0 | Prec: 1.0 | CorefKeep: 7947 / 7947 =  1.0\n",
      "M: 20 | Select: True | Gen: 13635 | Issues: 1457 | Hit: 324 / 465 (69.68) | TP: 1457 | FP: 0 | Prec: 1.0 | CorefKeep: 13635 / 13635 =  1.0\n",
      "M: 30 | Select: True | Gen: 16611 | Issues: 1488 | Hit: 324 / 465 (69.68) | TP: 1488 | FP: 0 | Prec: 1.0 | CorefKeep: 16611 / 16611 =  1.0\n",
      "M: 50 | Select: True | Gen: 18698 | Issues: 1519 | Hit: 324 / 465 (69.68) | TP: 1519 | FP: 0 | Prec: 1.0 | CorefKeep: 18698 / 18698 =  1.0\n"
     ]
    }
   ],
   "source": [
    "# rq4\n",
    "\n",
    "Num_Src = 1000\n",
    "Groundtruth_N = setup_groundtruth(cr='NeuralCoref')\n",
    "N = len(Groundtruth_N)\n",
    "P = Num_Src - N\n",
    "\n",
    "select = True\n",
    "\n",
    "df = pd.read_csv('../Output/RQ4-Impact/NeuralCoref/{}.tsv'.format(method), delimiter='\\t')\n",
    "\n",
    "for m in [10, 20, 30, 50]:\n",
    "    df_sampled = sample_maxGen(df, maxGen=m)\n",
    "        \n",
    "    if select:\n",
    "        df_sampled = df_sampled[df_sampled['isCorefKeep'] == True]\n",
    "        \n",
    "    Gen = len(df_sampled)\n",
    "    Issues = len(df_sampled[df_sampled['pairConsistent'] == False])\n",
    "        \n",
    "    hit = 0\n",
    "    for nid in Groundtruth_N:\n",
    "        if False in set(df_sampled[df_sampled['OID'] == nid]['pairConsistent']) or '[]' in set(df_sampled[df_sampled['OID'] == nid]['oriCoref']) or '[]' in set(df_sampled[df_sampled['OID'] == nid]['newCoref']):\n",
    "            hit += 1\n",
    "    \n",
    "    TP = len(df_sampled[(df_sampled['pairConsistent'] == False) & (df_sampled['isTrueBug'] == True)])\n",
    "    FP = len(df_sampled[(df_sampled['pairConsistent'] == False) & (df_sampled['isTrueBug'] == False)])\n",
    "    Prec = round(TP / (TP + FP), 2)\n",
    "    \n",
    "    if select:\n",
    "        corefChanged = len(df_sampled[(df_sampled['isCorefKeep'] == False) &  (df_sampled['depthConsistent']==True) & (df_sampled['oriDepth'] != 'set()') & (df_sampled['newDepth'] != 'set()')])\n",
    "        corefKeep = Gen - corefChanged\n",
    "    else:\n",
    "        corefKeep = len(df_sampled[df_sampled['isCorefKeep'] == True])\n",
    "        \n",
    "    corefKeepRatio = round(corefKeep / Gen, 4)\n",
    "\n",
    "    print(f'M: {m} | Select: {select} | Gen: {Gen} | Issues: {Issues} | Hit: {hit} / {N} ({round(hit/N * 100, 2)}) | TP: {TP} | FP: {FP} | Prec: {Prec} | CorefKeep: {corefKeep} / {Gen} =  {corefKeepRatio}')"
   ]
  },
  {
   "attachments": {},
   "cell_type": "markdown",
   "metadata": {},
   "source": [
    "### NeuralCoref | M = 10, 20, 30, 50 | Select = False "
   ]
  },
  {
   "cell_type": "code",
   "execution_count": 16,
   "metadata": {},
   "outputs": [
    {
     "name": "stdout",
     "output_type": "stream",
     "text": [
      "1000\n",
      "1000\n",
      "M: 10 | Select: False | Gen: 8138 | Issues: 1325 | Hit: 324 / 465 (69.68) | TP: 1325 | FP: 0 | Prec: 1.0 | CorefKeep: 8138 / 8138 =  1.0\n",
      "M: 20 | Select: False | Gen: 13635 | Issues: 1457 | Hit: 324 / 465 (69.68) | TP: 1457 | FP: 0 | Prec: 1.0 | CorefKeep: 13635 / 13635 =  1.0\n",
      "M: 30 | Select: False | Gen: 13635 | Issues: 1457 | Hit: 324 / 465 (69.68) | TP: 1457 | FP: 0 | Prec: 1.0 | CorefKeep: 13635 / 13635 =  1.0\n",
      "M: 50 | Select: False | Gen: 13635 | Issues: 1457 | Hit: 324 / 465 (69.68) | TP: 1457 | FP: 0 | Prec: 1.0 | CorefKeep: 13635 / 13635 =  1.0\n"
     ]
    }
   ],
   "source": [
    "Num_Src = 1000\n",
    "Groundtruth_N = setup_groundtruth(cr='NeuralCoref')\n",
    "N = len(Groundtruth_N)\n",
    "P = Num_Src - N\n",
    "\n",
    "# set coref filter = False\n",
    "select = False\n",
    "\n",
    "# read data\n",
    "df = pd.read_csv('../Output/RQ1-IssueRevealing/generate/NeuralCoref/{}.tsv'.format(method), delimiter='\\t')\n",
    "\n",
    "for m in [10, 20, 30, 50]:\n",
    "    df_sampled = sample_maxGen(df, maxGen=m)\n",
    "        \n",
    "    if select:\n",
    "        df_sampled = df_sampled[df_sampled['isCorefKeep'] == True]\n",
    "        \n",
    "    Gen = len(df_sampled)\n",
    "    Issues = len(df_sampled[df_sampled['pairConsistent'] == False])\n",
    "        \n",
    "    hit = 0\n",
    "    for nid in Groundtruth_N:\n",
    "        if False in set(df_sampled[df_sampled['OID'] == nid]['pairConsistent']) or '[]' in set(df_sampled[df_sampled['OID'] == nid]['oriCoref']) or '[]' in set(df_sampled[df_sampled['OID'] == nid]['newCoref']):\n",
    "            hit += 1\n",
    "        \n",
    "    TP = len(df_sampled[(df_sampled['pairConsistent'] == False) & (df_sampled['isTrueBug'] == True)])\n",
    "    FP = len(df_sampled[(df_sampled['pairConsistent'] == False) & (df_sampled['isTrueBug'] == False)])\n",
    "    Prec = round(TP / (TP + FP), 2)\n",
    "    \n",
    "    if method == 'Crest' and select:\n",
    "        corefChanged = len(df_sampled[(df_sampled['isCorefKeep'] == False) &  (df_sampled['depthConsistent']==True) & (df_sampled['oriDepth'] != 'set()') & (df_sampled['newDepth'] != 'set()')])\n",
    "        corefKeep = Gen - corefChanged\n",
    "    else:\n",
    "        corefKeep = len(df_sampled[df_sampled['isCorefKeep'] == True])\n",
    "        \n",
    "    corefKeepRatio = round(corefKeep / Gen, 4)\n",
    "\n",
    "    print(f'M: {m} | Select: {select} | Gen: {Gen} | Issues: {Issues} | Hit: {hit} / {N} ({round(hit/N * 100, 2)}) | TP: {TP} | FP: {FP} | Prec: {Prec} | CorefKeep: {corefKeep} / {Gen} =  {corefKeepRatio}')"
   ]
  },
  {
   "attachments": {},
   "cell_type": "markdown",
   "metadata": {},
   "source": [
    "### StatsCR | M = 10, 20, 30, 50 | Select = True "
   ]
  },
  {
   "cell_type": "code",
   "execution_count": null,
   "metadata": {},
   "outputs": [],
   "source": [
    "Num_Src = 1000\n",
    "Groundtruth_N = setup_groundtruth(cr='Stats')\n",
    "N = len(Groundtruth_N)\n",
    "P = Num_Src - N\n",
    "\n",
    "select = True\n",
    "\n",
    "for method in ('SIT', 'PatInv', 'CAT', 'Checklist','Textattack', 'CrestNew',  ): #  , 'SIT', \n",
    "    print(f'\\nMethod = {method}')\n",
    "    # df = pd.read_csv('../NewOutput_Stats/update_{}.tsv'.format(method), delimiter='\\t')\n",
    "    df = pd.read_csv('../NewOutput_NeuralCoref/{}.tsv'.format(method), delimiter='\\t')\n",
    "    \n",
    "    for m in [1, 10, 20, 30, 50]:\n",
    "        df_sampled = sample_maxGen(df, maxGen=m)\n",
    "            \n",
    "        Gen = len(df_sampled)\n",
    "        Issues = len(df_sampled[df_sampled['pairConsistent'] == False])\n",
    "            \n",
    "        hit = 0\n",
    "        for nid in Groundtruth_N:\n",
    "            if False in set(df_sampled[df_sampled['OID'] == nid]['pairConsistent']) or '[]' in set(df_sampled[df_sampled['OID'] == nid]['oriCoref']) or '[]' in set(df_sampled[df_sampled['OID'] == nid]['newCoref']):\n",
    "                hit += 1\n",
    "        \n",
    "        if method == 'CrestNew' and select:\n",
    "            df_sampled = df_sampled[df_sampled['isCorefKeep'] == True]\n",
    "            \n",
    "            \n",
    "        TP = len(df_sampled[(df_sampled['pairConsistent'] == False) & (df_sampled['isTrueBug'] == True)])\n",
    "        FP = len(df_sampled[(df_sampled['pairConsistent'] == False) & (df_sampled['isTrueBug'] == False)])\n",
    "        Prec = round(TP / (TP + FP), 2)\n",
    "        \n",
    "        if method == 'Crest' and select:\n",
    "            corefChanged = len(df_sampled[(df_sampled['isCorefKeep'] == False) &  (df_sampled['depthConsistent']==True) & (df_sampled['oriDepth'] != 'set()') & (df_sampled['newDepth'] != 'set()')])\n",
    "            corefKeep = Gen - corefChanged\n",
    "        else:\n",
    "            corefKeep = len(df_sampled[df_sampled['isCorefKeep'] == True])\n",
    "            \n",
    "        corefKeepRatio = round(corefKeep / Gen, 2)\n",
    "\n",
    "        print(f'M: {m} | Select: {select} | Gen: {Gen} | Issues: {Issues} | Hit: {hit} / {N} ({round(hit/N * 100, 2)}) | TP: {TP} | FP: {FP} | Prec: {Prec} | CorefKeep: {corefKeep} / {Gen} =  {corefKeepRatio}')"
   ]
  },
  {
   "attachments": {},
   "cell_type": "markdown",
   "metadata": {},
   "source": [
    "### StatsCR | M = 10, 20, 30, 50 | Select = False "
   ]
  },
  {
   "attachments": {},
   "cell_type": "markdown",
   "metadata": {},
   "source": [
    "Num_Src = 1000\n",
    "Groundtruth_N = setup_groundtruth(cr='Stats')\n",
    "N = len(Groundtruth_N)\n",
    "P = Num_Src - N\n",
    "\n",
    "select = False\n",
    "\n",
    "for method in ('SIT', 'PatInv', 'CAT', 'Checklist','Textattack', 'CrestNew',  ): #  , 'SIT', \n",
    "    print(f'\\nMethod = {method}')\n",
    "    # df = pd.read_csv('../NewOutput_Stats/update_{}.tsv'.format(method), delimiter='\\t')\n",
    "    df = pd.read_csv('../NewOutput_NeuralCoref/{}.tsv'.format(method), delimiter='\\t')\n",
    "    \n",
    "    for m in [1, 10, 20, 30, 50]:\n",
    "        df_sampled = sample_maxGen(df, maxGen=m)\n",
    "            \n",
    "        Gen = len(df_sampled)\n",
    "        Issues = len(df_sampled[df_sampled['pairConsistent'] == False])\n",
    "            \n",
    "        hit = 0\n",
    "        for nid in Groundtruth_N:\n",
    "            if False in set(df_sampled[df_sampled['OID'] == nid]['pairConsistent']) or '[]' in set(df_sampled[df_sampled['OID'] == nid]['oriCoref']) or '[]' in set(df_sampled[df_sampled['OID'] == nid]['newCoref']):\n",
    "                hit += 1\n",
    "        \n",
    "        if method == 'CrestNew' and select:\n",
    "            df_sampled = df_sampled[df_sampled['isCorefKeep'] == True]\n",
    "            \n",
    "            \n",
    "        TP = len(df_sampled[(df_sampled['pairConsistent'] == False) & (df_sampled['isTrueBug'] == True)])\n",
    "        FP = len(df_sampled[(df_sampled['pairConsistent'] == False) & (df_sampled['isTrueBug'] == False)])\n",
    "        Prec = round(TP / (TP + FP), 2)\n",
    "        \n",
    "        if method == 'Crest' and select:\n",
    "            corefChanged = len(df_sampled[(df_sampled['isCorefKeep'] == False) &  (df_sampled['depthConsistent']==True) & (df_sampled['oriDepth'] != 'set()') & (df_sampled['newDepth'] != 'set()')])\n",
    "            corefKeep = Gen - corefChanged\n",
    "        else:\n",
    "            corefKeep = len(df_sampled[df_sampled['isCorefKeep'] == True])\n",
    "            \n",
    "        corefKeepRatio = round(corefKeep / Gen, 2)\n",
    "\n",
    "        print(f'M: {m} | Select: {select} | Gen: {Gen} | Issues: {Issues} | Hit: {hit} / {N} ({round(hit/N * 100, 2)}) | TP: {TP} | FP: {FP} | Prec: {Prec} | CorefKeep: {corefKeep} / {Gen} =  {corefKeepRatio}')"
   ]
  }
 ],
 "metadata": {
  "kernelspec": {
   "display_name": "Python 3",
   "language": "python",
   "name": "python3"
  },
  "language_info": {
   "codemirror_mode": {
    "name": "ipython",
    "version": 3
   },
   "file_extension": ".py",
   "mimetype": "text/x-python",
   "name": "python",
   "nbconvert_exporter": "python",
   "pygments_lexer": "ipython3",
   "version": "3.8.12"
  }
 },
 "nbformat": 4,
 "nbformat_minor": 0
}

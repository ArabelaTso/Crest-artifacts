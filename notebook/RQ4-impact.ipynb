{
 "cells": [
  {
   "attachments": {},
   "cell_type": "markdown",
   "metadata": {},
   "source": [
    "# RQ4\n",
    "## Impact of M and w/ (w/o) selection"
   ]
  },
  {
   "cell_type": "code",
   "execution_count": 8,
   "metadata": {
    "collapsed": true,
    "pycharm": {
     "name": "#%%\n"
    }
   },
   "outputs": [],
   "source": [
    "import pandas as pd"
   ]
  },
  {
   "cell_type": "code",
   "execution_count": 25,
   "metadata": {
    "collapsed": false,
    "pycharm": {
     "name": "#%%\n"
    }
   },
   "outputs": [],
   "source": [
    "def sample_maxGen(df, maxGen=20):\n",
    "    df_all = None\n",
    "    for oid in range(0, max(df['OID'])+1):\n",
    "        if oid not in df['OID']:\n",
    "            print('skip: oid = ', oid)\n",
    "            continue\n",
    "        df1 = df[df.OID == oid]\n",
    "        if len(set(df1.pairConsistent.values)) == 2:\n",
    "            dff = df1[df1.pairConsistent == False]\n",
    "            if len(dff) >= maxGen:\n",
    "                df1 = dff.iloc[:maxGen, :]\n",
    "            else:\n",
    "                dft = df1[df1.pairConsistent == True].iloc[:maxGen - len(dff), :]\n",
    "                df1 = pd.concat([dff, dft], axis=0)\n",
    "        else:\n",
    "            df1 = df[df.OID == oid].iloc[:min(len(df1), maxGen), :]\n",
    "\n",
    "        if df_all is None:\n",
    "            df_all = df1\n",
    "        else:\n",
    "            df_all = pd.concat([df_all, df1], axis=0)\n",
    "            # print(len(df_all))\n",
    "        # print()\n",
    "    return df_all\n",
    "\n",
    "def setup_groundtruth(cr='NeuralCoref', gt_method='Textattack'):  # Stats\n",
    "    # Because Checklist has all 200 sentences recorded, so we use it as ground truth.\n",
    "    df = pd.read_csv('../Output/RQ1-IssueRevealing/generate/{}/{}.tsv'.format(cr, gt_method), delimiter='\\t')\n",
    "    print(len(set(df['OID'])))\n",
    "    \n",
    "    for i in range(0, 1001):\n",
    "        if i not in set(df['OID']):\n",
    "            print(i)\n",
    "    assert len(set(df['OID'])) == 1000\n",
    "\n",
    "    Groundtruth_N = set(df[df['oriConsistent'] == False]['OID'])\n",
    "    # print(len(Groundtruth_N))\n",
    "    return Groundtruth_N"
   ]
  },
  {
   "attachments": {},
   "cell_type": "markdown",
   "metadata": {},
   "source": [
    "### NeuralCoref | M = 10, 20, 30, 50 | Select = True "
   ]
  },
  {
   "cell_type": "code",
   "execution_count": 26,
   "metadata": {},
   "outputs": [
    {
     "name": "stdout",
     "output_type": "stream",
     "text": [
      "999\n",
      "999\n",
      "1000\n"
     ]
    },
    {
     "ename": "AssertionError",
     "evalue": "",
     "output_type": "error",
     "traceback": [
      "\u001b[0;31m---------------------------------------------------------------------------\u001b[0m",
      "\u001b[0;31mAssertionError\u001b[0m                            Traceback (most recent call last)",
      "\u001b[0;32m/var/folders/14/qh5y_dh10ybb9k_w1q6j9pww0000gn/T/ipykernel_77066/702900550.py\u001b[0m in \u001b[0;36m<module>\u001b[0;34m\u001b[0m\n\u001b[1;32m      2\u001b[0m \u001b[0;34m\u001b[0m\u001b[0m\n\u001b[1;32m      3\u001b[0m \u001b[0mNum_Src\u001b[0m \u001b[0;34m=\u001b[0m \u001b[0;36m1000\u001b[0m\u001b[0;34m\u001b[0m\u001b[0;34m\u001b[0m\u001b[0m\n\u001b[0;32m----> 4\u001b[0;31m \u001b[0mGroundtruth_N\u001b[0m \u001b[0;34m=\u001b[0m \u001b[0msetup_groundtruth\u001b[0m\u001b[0;34m(\u001b[0m\u001b[0mcr\u001b[0m\u001b[0;34m=\u001b[0m\u001b[0;34m'NeuralCoref'\u001b[0m\u001b[0;34m)\u001b[0m\u001b[0;34m\u001b[0m\u001b[0;34m\u001b[0m\u001b[0m\n\u001b[0m\u001b[1;32m      5\u001b[0m \u001b[0mN\u001b[0m \u001b[0;34m=\u001b[0m \u001b[0mlen\u001b[0m\u001b[0;34m(\u001b[0m\u001b[0mGroundtruth_N\u001b[0m\u001b[0;34m)\u001b[0m\u001b[0;34m\u001b[0m\u001b[0;34m\u001b[0m\u001b[0m\n\u001b[1;32m      6\u001b[0m \u001b[0mP\u001b[0m \u001b[0;34m=\u001b[0m \u001b[0mNum_Src\u001b[0m \u001b[0;34m-\u001b[0m \u001b[0mN\u001b[0m\u001b[0;34m\u001b[0m\u001b[0;34m\u001b[0m\u001b[0m\n",
      "\u001b[0;32m/var/folders/14/qh5y_dh10ybb9k_w1q6j9pww0000gn/T/ipykernel_77066/1747168674.py\u001b[0m in \u001b[0;36msetup_groundtruth\u001b[0;34m(cr, gt_method)\u001b[0m\n\u001b[1;32m     32\u001b[0m         \u001b[0;32mif\u001b[0m \u001b[0mi\u001b[0m \u001b[0;32mnot\u001b[0m \u001b[0;32min\u001b[0m \u001b[0mset\u001b[0m\u001b[0;34m(\u001b[0m\u001b[0mdf\u001b[0m\u001b[0;34m[\u001b[0m\u001b[0;34m'OID'\u001b[0m\u001b[0;34m]\u001b[0m\u001b[0;34m)\u001b[0m\u001b[0;34m:\u001b[0m\u001b[0;34m\u001b[0m\u001b[0;34m\u001b[0m\u001b[0m\n\u001b[1;32m     33\u001b[0m             \u001b[0mprint\u001b[0m\u001b[0;34m(\u001b[0m\u001b[0mi\u001b[0m\u001b[0;34m)\u001b[0m\u001b[0;34m\u001b[0m\u001b[0;34m\u001b[0m\u001b[0m\n\u001b[0;32m---> 34\u001b[0;31m     \u001b[0;32massert\u001b[0m \u001b[0mlen\u001b[0m\u001b[0;34m(\u001b[0m\u001b[0mset\u001b[0m\u001b[0;34m(\u001b[0m\u001b[0mdf\u001b[0m\u001b[0;34m[\u001b[0m\u001b[0;34m'OID'\u001b[0m\u001b[0;34m]\u001b[0m\u001b[0;34m)\u001b[0m\u001b[0;34m)\u001b[0m \u001b[0;34m==\u001b[0m \u001b[0;36m1000\u001b[0m\u001b[0;34m\u001b[0m\u001b[0;34m\u001b[0m\u001b[0m\n\u001b[0m\u001b[1;32m     35\u001b[0m \u001b[0;34m\u001b[0m\u001b[0m\n\u001b[1;32m     36\u001b[0m     \u001b[0mGroundtruth_N\u001b[0m \u001b[0;34m=\u001b[0m \u001b[0mset\u001b[0m\u001b[0;34m(\u001b[0m\u001b[0mdf\u001b[0m\u001b[0;34m[\u001b[0m\u001b[0mdf\u001b[0m\u001b[0;34m[\u001b[0m\u001b[0;34m'oriConsistent'\u001b[0m\u001b[0;34m]\u001b[0m \u001b[0;34m==\u001b[0m \u001b[0;32mFalse\u001b[0m\u001b[0;34m]\u001b[0m\u001b[0;34m[\u001b[0m\u001b[0;34m'OID'\u001b[0m\u001b[0;34m]\u001b[0m\u001b[0;34m)\u001b[0m\u001b[0;34m\u001b[0m\u001b[0;34m\u001b[0m\u001b[0m\n",
      "\u001b[0;31mAssertionError\u001b[0m: "
     ]
    }
   ],
   "source": [
    "# rq4\n",
    "\n",
    "Num_Src = 1000\n",
    "Groundtruth_N = setup_groundtruth(cr='NeuralCoref')\n",
    "N = len(Groundtruth_N)\n",
    "P = Num_Src - N\n",
    "\n",
    "select = True\n",
    "\n",
    "for method in ('Crest',  ): # 'SIT', 'PatInv', 'CAT', 'Checklist','Textattack', \n",
    "    print(f'\\nMethod = {method}')\n",
    "    # df = pd.read_csv('../NewOutput_Stats/update_{}.tsv'.format(method), delimiter='\\t')\n",
    "    df = pd.read_csv('../Output/RQ1-IssueRevealing/generate/NeuralCoref/{}.tsv'.format(method), delimiter='\\t')\n",
    "    \n",
    "    for m in [10, 20, 30, 50]:\n",
    "        df_sampled = sample_maxGen(df, maxGen=m)\n",
    "            \n",
    "        if method == 'CrestNew' and select:\n",
    "            df_sampled = df_sampled[df_sampled['isCorefKeep'] == True]\n",
    "            \n",
    "        Gen = len(df_sampled)\n",
    "        Issues = len(df_sampled[df_sampled['pairConsistent'] == False])\n",
    "            \n",
    "        hit = 0\n",
    "        for nid in Groundtruth_N:\n",
    "            if False in set(df_sampled[df_sampled['OID'] == nid]['pairConsistent']) or '[]' in set(df_sampled[df_sampled['OID'] == nid]['oriCoref']) or '[]' in set(df_sampled[df_sampled['OID'] == nid]['newCoref']):\n",
    "                hit += 1\n",
    "        \n",
    "        TP = len(df_sampled[(df_sampled['pairConsistent'] == False) & (df_sampled['isTrueBug'] == True)])\n",
    "        FP = len(df_sampled[(df_sampled['pairConsistent'] == False) & (df_sampled['isTrueBug'] == False)])\n",
    "        Prec = round(TP / (TP + FP), 2)\n",
    "        \n",
    "        if method == 'Crest' and select:\n",
    "            corefChanged = len(df_sampled[(df_sampled['isCorefKeep'] == False) &  (df_sampled['depthConsistent']==True) & (df_sampled['oriDepth'] != 'set()') & (df_sampled['newDepth'] != 'set()')])\n",
    "            corefKeep = Gen - corefChanged\n",
    "        else:\n",
    "            corefKeep = len(df_sampled[df_sampled['isCorefKeep'] == True])\n",
    "            \n",
    "        corefKeepRatio = round(corefKeep / Gen, 4)\n",
    "\n",
    "        print(f'M: {m} | Select: {select} | Gen: {Gen} | Issues: {Issues} | Hit: {hit} / {N} ({round(hit/N * 100, 2)}) | TP: {TP} | FP: {FP} | Prec: {Prec} | CorefKeep: {corefKeep} / {Gen} =  {corefKeepRatio}')"
   ]
  },
  {
   "attachments": {},
   "cell_type": "markdown",
   "metadata": {},
   "source": [
    "### NeuralCoref | M = 10, 20, 30, 50 | Select = False "
   ]
  },
  {
   "cell_type": "code",
   "execution_count": 7,
   "metadata": {},
   "outputs": [
    {
     "ename": "NameError",
     "evalue": "name 'pd' is not defined",
     "output_type": "error",
     "traceback": [
      "\u001b[0;31m---------------------------------------------------------------------------\u001b[0m",
      "\u001b[0;31mNameError\u001b[0m                                 Traceback (most recent call last)",
      "\u001b[0;32m/var/folders/14/qh5y_dh10ybb9k_w1q6j9pww0000gn/T/ipykernel_77066/598531869.py\u001b[0m in \u001b[0;36m<module>\u001b[0;34m\u001b[0m\n\u001b[1;32m      1\u001b[0m \u001b[0mNum_Src\u001b[0m \u001b[0;34m=\u001b[0m \u001b[0;36m1000\u001b[0m\u001b[0;34m\u001b[0m\u001b[0;34m\u001b[0m\u001b[0m\n\u001b[0;32m----> 2\u001b[0;31m \u001b[0mGroundtruth_N\u001b[0m \u001b[0;34m=\u001b[0m \u001b[0msetup_groundtruth\u001b[0m\u001b[0;34m(\u001b[0m\u001b[0mcr\u001b[0m\u001b[0;34m=\u001b[0m\u001b[0;34m'NeuralCoref'\u001b[0m\u001b[0;34m)\u001b[0m\u001b[0;34m\u001b[0m\u001b[0;34m\u001b[0m\u001b[0m\n\u001b[0m\u001b[1;32m      3\u001b[0m \u001b[0mN\u001b[0m \u001b[0;34m=\u001b[0m \u001b[0mlen\u001b[0m\u001b[0;34m(\u001b[0m\u001b[0mGroundtruth_N\u001b[0m\u001b[0;34m)\u001b[0m\u001b[0;34m\u001b[0m\u001b[0;34m\u001b[0m\u001b[0m\n\u001b[1;32m      4\u001b[0m \u001b[0mP\u001b[0m \u001b[0;34m=\u001b[0m \u001b[0mNum_Src\u001b[0m \u001b[0;34m-\u001b[0m \u001b[0mN\u001b[0m\u001b[0;34m\u001b[0m\u001b[0;34m\u001b[0m\u001b[0m\n\u001b[1;32m      5\u001b[0m \u001b[0;34m\u001b[0m\u001b[0m\n",
      "\u001b[0;32m/var/folders/14/qh5y_dh10ybb9k_w1q6j9pww0000gn/T/ipykernel_77066/1800561935.py\u001b[0m in \u001b[0;36msetup_groundtruth\u001b[0;34m(cr, gt_method)\u001b[0m\n\u001b[1;32m     26\u001b[0m \u001b[0;32mdef\u001b[0m \u001b[0msetup_groundtruth\u001b[0m\u001b[0;34m(\u001b[0m\u001b[0mcr\u001b[0m\u001b[0;34m=\u001b[0m\u001b[0;34m'NeuralCoref'\u001b[0m\u001b[0;34m,\u001b[0m \u001b[0mgt_method\u001b[0m\u001b[0;34m=\u001b[0m\u001b[0;34m'Textattack'\u001b[0m\u001b[0;34m)\u001b[0m\u001b[0;34m:\u001b[0m  \u001b[0;31m# Stats\u001b[0m\u001b[0;34m\u001b[0m\u001b[0;34m\u001b[0m\u001b[0m\n\u001b[1;32m     27\u001b[0m     \u001b[0;31m# Because Checklist has all 200 sentences recorded, so we use it as ground truth.\u001b[0m\u001b[0;34m\u001b[0m\u001b[0;34m\u001b[0m\u001b[0;34m\u001b[0m\u001b[0m\n\u001b[0;32m---> 28\u001b[0;31m     \u001b[0mdf\u001b[0m \u001b[0;34m=\u001b[0m \u001b[0mpd\u001b[0m\u001b[0;34m.\u001b[0m\u001b[0mread_csv\u001b[0m\u001b[0;34m(\u001b[0m\u001b[0;34m'../NewOutput_{}/{}.tsv'\u001b[0m\u001b[0;34m.\u001b[0m\u001b[0mformat\u001b[0m\u001b[0;34m(\u001b[0m\u001b[0mcr\u001b[0m\u001b[0;34m,\u001b[0m \u001b[0mgt_method\u001b[0m\u001b[0;34m)\u001b[0m\u001b[0;34m,\u001b[0m \u001b[0mdelimiter\u001b[0m\u001b[0;34m=\u001b[0m\u001b[0;34m'\\t'\u001b[0m\u001b[0;34m)\u001b[0m\u001b[0;34m\u001b[0m\u001b[0;34m\u001b[0m\u001b[0m\n\u001b[0m\u001b[1;32m     29\u001b[0m     \u001b[0;32massert\u001b[0m \u001b[0mlen\u001b[0m\u001b[0;34m(\u001b[0m\u001b[0mset\u001b[0m\u001b[0;34m(\u001b[0m\u001b[0mdf\u001b[0m\u001b[0;34m[\u001b[0m\u001b[0;34m'OID'\u001b[0m\u001b[0;34m]\u001b[0m\u001b[0;34m)\u001b[0m\u001b[0;34m)\u001b[0m \u001b[0;34m==\u001b[0m \u001b[0;36m1000\u001b[0m\u001b[0;34m\u001b[0m\u001b[0;34m\u001b[0m\u001b[0m\n\u001b[1;32m     30\u001b[0m \u001b[0;34m\u001b[0m\u001b[0m\n",
      "\u001b[0;31mNameError\u001b[0m: name 'pd' is not defined"
     ]
    }
   ],
   "source": [
    "Num_Src = 1000\n",
    "Groundtruth_N = setup_groundtruth(cr='NeuralCoref')\n",
    "N = len(Groundtruth_N)\n",
    "P = Num_Src - N\n",
    "\n",
    "select = False\n",
    "\n",
    "for method in ( 'CrestNew',  ): #  'SIT', 'PatInv', 'CAT', 'Checklist','Textattack',\n",
    "    print(f'\\nMethod = {method}')\n",
    "    df = pd.read_csv('../NewOutput_NeuralCoref/{}.tsv'.format(method), delimiter='\\t')\n",
    "    \n",
    "    for m in [10, 20, 30, 50]:\n",
    "        df_sampled = sample_maxGen(df, maxGen=m)\n",
    "            \n",
    "        if method == 'CrestNew' and select:\n",
    "            df_sampled = df_sampled[df_sampled['isCorefKeep'] == True]\n",
    "            \n",
    "        Gen = len(df_sampled)\n",
    "        Issues = len(df_sampled[df_sampled['pairConsistent'] == False])\n",
    "            \n",
    "        hit = 0\n",
    "        for nid in Groundtruth_N:\n",
    "            if False in set(df_sampled[df_sampled['OID'] == nid]['pairConsistent']) or '[]' in set(df_sampled[df_sampled['OID'] == nid]['oriCoref']) or '[]' in set(df_sampled[df_sampled['OID'] == nid]['newCoref']):\n",
    "                hit += 1\n",
    "            \n",
    "        TP = len(df_sampled[(df_sampled['pairConsistent'] == False) & (df_sampled['isTrueBug'] == True)])\n",
    "        FP = len(df_sampled[(df_sampled['pairConsistent'] == False) & (df_sampled['isTrueBug'] == False)])\n",
    "        Prec = round(TP / (TP + FP), 2)\n",
    "        \n",
    "        if method == 'CrestNew' and select:\n",
    "            corefChanged = len(df_sampled[(df_sampled['isCorefKeep'] == False) &  (df_sampled['depthConsistent']==True) & (df_sampled['oriDepth'] != 'set()') & (df_sampled['newDepth'] != 'set()')])\n",
    "            corefKeep = Gen - corefChanged\n",
    "        else:\n",
    "            corefKeep = len(df_sampled[df_sampled['isCorefKeep'] == True])\n",
    "            \n",
    "        corefKeepRatio = round(corefKeep / Gen, 4)\n",
    "\n",
    "        print(f'M: {m} | Select: {select} | Gen: {Gen} | Issues: {Issues} | Hit: {hit} / {N} ({round(hit/N * 100, 2)}) | TP: {TP} | FP: {FP} | Prec: {Prec} | CorefKeep: {corefKeep} / {Gen} =  {corefKeepRatio}')"
   ]
  },
  {
   "attachments": {},
   "cell_type": "markdown",
   "metadata": {},
   "source": [
    "### StatsCR | M = 10, 20, 30, 50 | Select = True "
   ]
  },
  {
   "cell_type": "code",
   "execution_count": null,
   "metadata": {},
   "outputs": [],
   "source": [
    "Num_Src = 1000\n",
    "Groundtruth_N = setup_groundtruth(cr='Stats')\n",
    "N = len(Groundtruth_N)\n",
    "P = Num_Src - N\n",
    "\n",
    "select = True\n",
    "\n",
    "for method in ('SIT', 'PatInv', 'CAT', 'Checklist','Textattack', 'CrestNew',  ): #  , 'SIT', \n",
    "    print(f'\\nMethod = {method}')\n",
    "    # df = pd.read_csv('../NewOutput_Stats/update_{}.tsv'.format(method), delimiter='\\t')\n",
    "    df = pd.read_csv('../NewOutput_NeuralCoref/{}.tsv'.format(method), delimiter='\\t')\n",
    "    \n",
    "    for m in [1, 10, 20, 30, 50]:\n",
    "        df_sampled = sample_maxGen(df, maxGen=m)\n",
    "            \n",
    "        Gen = len(df_sampled)\n",
    "        Issues = len(df_sampled[df_sampled['pairConsistent'] == False])\n",
    "            \n",
    "        hit = 0\n",
    "        for nid in Groundtruth_N:\n",
    "            if False in set(df_sampled[df_sampled['OID'] == nid]['pairConsistent']) or '[]' in set(df_sampled[df_sampled['OID'] == nid]['oriCoref']) or '[]' in set(df_sampled[df_sampled['OID'] == nid]['newCoref']):\n",
    "                hit += 1\n",
    "        \n",
    "        if method == 'CrestNew' and select:\n",
    "            df_sampled = df_sampled[df_sampled['isCorefKeep'] == True]\n",
    "            \n",
    "            \n",
    "        TP = len(df_sampled[(df_sampled['pairConsistent'] == False) & (df_sampled['isTrueBug'] == True)])\n",
    "        FP = len(df_sampled[(df_sampled['pairConsistent'] == False) & (df_sampled['isTrueBug'] == False)])\n",
    "        Prec = round(TP / (TP + FP), 2)\n",
    "        \n",
    "        if method == 'Crest' and select:\n",
    "            corefChanged = len(df_sampled[(df_sampled['isCorefKeep'] == False) &  (df_sampled['depthConsistent']==True) & (df_sampled['oriDepth'] != 'set()') & (df_sampled['newDepth'] != 'set()')])\n",
    "            corefKeep = Gen - corefChanged\n",
    "        else:\n",
    "            corefKeep = len(df_sampled[df_sampled['isCorefKeep'] == True])\n",
    "            \n",
    "        corefKeepRatio = round(corefKeep / Gen, 2)\n",
    "\n",
    "        print(f'M: {m} | Select: {select} | Gen: {Gen} | Issues: {Issues} | Hit: {hit} / {N} ({round(hit/N * 100, 2)}) | TP: {TP} | FP: {FP} | Prec: {Prec} | CorefKeep: {corefKeep} / {Gen} =  {corefKeepRatio}')"
   ]
  },
  {
   "attachments": {},
   "cell_type": "markdown",
   "metadata": {},
   "source": [
    "### StatsCR | M = 10, 20, 30, 50 | Select = False "
   ]
  },
  {
   "attachments": {},
   "cell_type": "markdown",
   "metadata": {},
   "source": [
    "Num_Src = 1000\n",
    "Groundtruth_N = setup_groundtruth(cr='Stats')\n",
    "N = len(Groundtruth_N)\n",
    "P = Num_Src - N\n",
    "\n",
    "select = False\n",
    "\n",
    "for method in ('SIT', 'PatInv', 'CAT', 'Checklist','Textattack', 'CrestNew',  ): #  , 'SIT', \n",
    "    print(f'\\nMethod = {method}')\n",
    "    # df = pd.read_csv('../NewOutput_Stats/update_{}.tsv'.format(method), delimiter='\\t')\n",
    "    df = pd.read_csv('../NewOutput_NeuralCoref/{}.tsv'.format(method), delimiter='\\t')\n",
    "    \n",
    "    for m in [1, 10, 20, 30, 50]:\n",
    "        df_sampled = sample_maxGen(df, maxGen=m)\n",
    "            \n",
    "        Gen = len(df_sampled)\n",
    "        Issues = len(df_sampled[df_sampled['pairConsistent'] == False])\n",
    "            \n",
    "        hit = 0\n",
    "        for nid in Groundtruth_N:\n",
    "            if False in set(df_sampled[df_sampled['OID'] == nid]['pairConsistent']) or '[]' in set(df_sampled[df_sampled['OID'] == nid]['oriCoref']) or '[]' in set(df_sampled[df_sampled['OID'] == nid]['newCoref']):\n",
    "                hit += 1\n",
    "        \n",
    "        if method == 'CrestNew' and select:\n",
    "            df_sampled = df_sampled[df_sampled['isCorefKeep'] == True]\n",
    "            \n",
    "            \n",
    "        TP = len(df_sampled[(df_sampled['pairConsistent'] == False) & (df_sampled['isTrueBug'] == True)])\n",
    "        FP = len(df_sampled[(df_sampled['pairConsistent'] == False) & (df_sampled['isTrueBug'] == False)])\n",
    "        Prec = round(TP / (TP + FP), 2)\n",
    "        \n",
    "        if method == 'Crest' and select:\n",
    "            corefChanged = len(df_sampled[(df_sampled['isCorefKeep'] == False) &  (df_sampled['depthConsistent']==True) & (df_sampled['oriDepth'] != 'set()') & (df_sampled['newDepth'] != 'set()')])\n",
    "            corefKeep = Gen - corefChanged\n",
    "        else:\n",
    "            corefKeep = len(df_sampled[df_sampled['isCorefKeep'] == True])\n",
    "            \n",
    "        corefKeepRatio = round(corefKeep / Gen, 2)\n",
    "\n",
    "        print(f'M: {m} | Select: {select} | Gen: {Gen} | Issues: {Issues} | Hit: {hit} / {N} ({round(hit/N * 100, 2)}) | TP: {TP} | FP: {FP} | Prec: {Prec} | CorefKeep: {corefKeep} / {Gen} =  {corefKeepRatio}')"
   ]
  }
 ],
 "metadata": {
  "kernelspec": {
   "display_name": "Python 3",
   "language": "python",
   "name": "python3"
  },
  "language_info": {
   "codemirror_mode": {
    "name": "ipython",
    "version": 3
   },
   "file_extension": ".py",
   "mimetype": "text/x-python",
   "name": "python",
   "nbconvert_exporter": "python",
   "pygments_lexer": "ipython3",
   "version": "3.8.12"
  }
 },
 "nbformat": 4,
 "nbformat_minor": 0
}
